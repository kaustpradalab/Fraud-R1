{
 "cells": [
  {
   "cell_type": "code",
   "execution_count": 1,
   "metadata": {},
   "outputs": [
    {
     "name": "stdout",
     "output_type": "stream",
     "text": [
      "All JSON files have been combined and reindexed into Fraud24kRaw.json\n"
     ]
    }
   ],
   "source": [
    "import os\n",
    "import json\n",
    "\n",
    "# Folder containing the JSON files\n",
    "folder_path = \"./\"  # Update to your folder path\n",
    "output_file = \"Fraud24kRaw.json\"\n",
    "\n",
    "# Initialize an empty list to store data from all JSON files\n",
    "combined_data = []\n",
    "\n",
    "# Iterate through all files in the folder\n",
    "for filename in os.listdir(folder_path):\n",
    "    if filename.endswith(\".json\"):  # Process only JSON files\n",
    "        file_path = os.path.join(folder_path, filename)\n",
    "        \n",
    "        with open(file_path, \"r\", encoding=\"utf-8\") as json_file:\n",
    "            data = json.load(json_file)  # Load the content of the JSON file\n",
    "            # Check if the data is a list or a single object\n",
    "            if isinstance(data, list):\n",
    "                combined_data.extend(data)  # Append list data\n",
    "            else:\n",
    "                combined_data.append(data)  # Append single object\n",
    "\n",
    "# Reorder index (assign new unique IDs sequentially)\n",
    "for idx, item in enumerate(combined_data):\n",
    "    item['id'] = idx  # Reassign ID to be sequential starting from 0\n",
    "\n",
    "# Save the combined data to a single JSON file\n",
    "with open(output_file, \"w\", encoding=\"utf-8\") as out_file:\n",
    "    json.dump(combined_data, out_file, indent=4, ensure_ascii=False)\n",
    "\n",
    "print(f\"All JSON files have been combined and reindexed into {output_file}\")\n"
   ]
  },
  {
   "cell_type": "code",
   "execution_count": 3,
   "metadata": {},
   "outputs": [
    {
     "ename": "ImportError",
     "evalue": "C extension: None not built. If you want to import pandas from the source directory, you may need to run 'python setup.py build_ext' to build the C extensions first.",
     "output_type": "error",
     "traceback": [
      "\u001b[0;31m---------------------------------------------------------------------------\u001b[0m",
      "\u001b[0;31mImportError\u001b[0m                               Traceback (most recent call last)",
      "File \u001b[0;32m~/.local/lib/python3.10/site-packages/pandas/__init__.py:26\u001b[0m\n\u001b[1;32m     24\u001b[0m \u001b[38;5;28;01mtry\u001b[39;00m:\n\u001b[1;32m     25\u001b[0m     \u001b[38;5;66;03m# numpy compat\u001b[39;00m\n\u001b[0;32m---> 26\u001b[0m     \u001b[38;5;28;01mfrom\u001b[39;00m\u001b[38;5;250m \u001b[39m\u001b[38;5;21;01mpandas\u001b[39;00m\u001b[38;5;21;01m.\u001b[39;00m\u001b[38;5;21;01mcompat\u001b[39;00m\u001b[38;5;250m \u001b[39m\u001b[38;5;28;01mimport\u001b[39;00m (\n\u001b[1;32m     27\u001b[0m         is_numpy_dev \u001b[38;5;28;01mas\u001b[39;00m _is_numpy_dev,  \u001b[38;5;66;03m# pyright: ignore[reportUnusedImport] # noqa: F401\u001b[39;00m\n\u001b[1;32m     28\u001b[0m     )\n\u001b[1;32m     29\u001b[0m \u001b[38;5;28;01mexcept\u001b[39;00m \u001b[38;5;167;01mImportError\u001b[39;00m \u001b[38;5;28;01mas\u001b[39;00m _err:  \u001b[38;5;66;03m# pragma: no cover\u001b[39;00m\n",
      "File \u001b[0;32m~/.local/lib/python3.10/site-packages/pandas/compat/__init__.py:26\u001b[0m\n\u001b[1;32m     25\u001b[0m \u001b[38;5;28;01mimport\u001b[39;00m\u001b[38;5;250m \u001b[39m\u001b[38;5;21;01mpandas\u001b[39;00m\u001b[38;5;21;01m.\u001b[39;00m\u001b[38;5;21;01mcompat\u001b[39;00m\u001b[38;5;21;01m.\u001b[39;00m\u001b[38;5;21;01mcompressors\u001b[39;00m\n\u001b[0;32m---> 26\u001b[0m \u001b[38;5;28;01mfrom\u001b[39;00m\u001b[38;5;250m \u001b[39m\u001b[38;5;21;01mpandas\u001b[39;00m\u001b[38;5;21;01m.\u001b[39;00m\u001b[38;5;21;01mcompat\u001b[39;00m\u001b[38;5;21;01m.\u001b[39;00m\u001b[38;5;21;01mnumpy\u001b[39;00m\u001b[38;5;250m \u001b[39m\u001b[38;5;28;01mimport\u001b[39;00m is_numpy_dev\n\u001b[1;32m     27\u001b[0m \u001b[38;5;28;01mfrom\u001b[39;00m\u001b[38;5;250m \u001b[39m\u001b[38;5;21;01mpandas\u001b[39;00m\u001b[38;5;21;01m.\u001b[39;00m\u001b[38;5;21;01mcompat\u001b[39;00m\u001b[38;5;21;01m.\u001b[39;00m\u001b[38;5;21;01mpyarrow\u001b[39;00m\u001b[38;5;250m \u001b[39m\u001b[38;5;28;01mimport\u001b[39;00m (\n\u001b[1;32m     28\u001b[0m     pa_version_under10p1,\n\u001b[1;32m     29\u001b[0m     pa_version_under11p0,\n\u001b[0;32m   (...)\u001b[0m\n\u001b[1;32m     33\u001b[0m     pa_version_under16p0,\n\u001b[1;32m     34\u001b[0m )\n",
      "File \u001b[0;32m~/.local/lib/python3.10/site-packages/pandas/compat/numpy/__init__.py:21\u001b[0m\n\u001b[1;32m     20\u001b[0m \u001b[38;5;28;01mif\u001b[39;00m _nlv \u001b[38;5;241m<\u001b[39m Version(_min_numpy_ver):\n\u001b[0;32m---> 21\u001b[0m     \u001b[38;5;28;01mraise\u001b[39;00m \u001b[38;5;167;01mImportError\u001b[39;00m(\n\u001b[1;32m     22\u001b[0m         \u001b[38;5;124mf\u001b[39m\u001b[38;5;124m\"\u001b[39m\u001b[38;5;124mthis version of pandas is incompatible with numpy < \u001b[39m\u001b[38;5;132;01m{\u001b[39;00m_min_numpy_ver\u001b[38;5;132;01m}\u001b[39;00m\u001b[38;5;130;01m\\n\u001b[39;00m\u001b[38;5;124m\"\u001b[39m\n\u001b[1;32m     23\u001b[0m         \u001b[38;5;124mf\u001b[39m\u001b[38;5;124m\"\u001b[39m\u001b[38;5;124myour numpy version is \u001b[39m\u001b[38;5;132;01m{\u001b[39;00m_np_version\u001b[38;5;132;01m}\u001b[39;00m\u001b[38;5;124m.\u001b[39m\u001b[38;5;130;01m\\n\u001b[39;00m\u001b[38;5;124m\"\u001b[39m\n\u001b[1;32m     24\u001b[0m         \u001b[38;5;124mf\u001b[39m\u001b[38;5;124m\"\u001b[39m\u001b[38;5;124mPlease upgrade numpy to >= \u001b[39m\u001b[38;5;132;01m{\u001b[39;00m_min_numpy_ver\u001b[38;5;132;01m}\u001b[39;00m\u001b[38;5;124m to use this pandas version\u001b[39m\u001b[38;5;124m\"\u001b[39m\n\u001b[1;32m     25\u001b[0m     )\n\u001b[1;32m     28\u001b[0m np_long: \u001b[38;5;28mtype\u001b[39m\n",
      "\u001b[0;31mImportError\u001b[0m: this version of pandas is incompatible with numpy < 1.22.4\nyour numpy version is 1.21.5.\nPlease upgrade numpy to >= 1.22.4 to use this pandas version",
      "\nThe above exception was the direct cause of the following exception:\n",
      "\u001b[0;31mImportError\u001b[0m                               Traceback (most recent call last)",
      "Cell \u001b[0;32mIn[3], line 4\u001b[0m\n\u001b[1;32m      2\u001b[0m \u001b[38;5;28;01mimport\u001b[39;00m\u001b[38;5;250m \u001b[39m\u001b[38;5;21;01mos\u001b[39;00m\n\u001b[1;32m      3\u001b[0m \u001b[38;5;28;01mimport\u001b[39;00m\u001b[38;5;250m \u001b[39m\u001b[38;5;21;01mjson\u001b[39;00m\n\u001b[0;32m----> 4\u001b[0m \u001b[38;5;28;01mimport\u001b[39;00m\u001b[38;5;250m \u001b[39m\u001b[38;5;21;01mpandas\u001b[39;00m\u001b[38;5;250m \u001b[39m\u001b[38;5;28;01mas\u001b[39;00m\u001b[38;5;250m \u001b[39m\u001b[38;5;21;01mpd\u001b[39;00m\n\u001b[1;32m      7\u001b[0m \u001b[38;5;28;01mwith\u001b[39;00m \u001b[38;5;28mopen\u001b[39m(\u001b[38;5;124m\"\u001b[39m\u001b[38;5;124mFP-base-Chinese.json\u001b[39m\u001b[38;5;124m\"\u001b[39m, \u001b[38;5;124m\"\u001b[39m\u001b[38;5;124mr\u001b[39m\u001b[38;5;124m\"\u001b[39m, encoding\u001b[38;5;241m=\u001b[39m\u001b[38;5;124m\"\u001b[39m\u001b[38;5;124mutf-8\u001b[39m\u001b[38;5;124m\"\u001b[39m) \u001b[38;5;28;01mas\u001b[39;00m file:\n\u001b[1;32m      8\u001b[0m     data \u001b[38;5;241m=\u001b[39m json\u001b[38;5;241m.\u001b[39mload(file)\n",
      "File \u001b[0;32m~/.local/lib/python3.10/site-packages/pandas/__init__.py:31\u001b[0m\n\u001b[1;32m     29\u001b[0m \u001b[38;5;28;01mexcept\u001b[39;00m \u001b[38;5;167;01mImportError\u001b[39;00m \u001b[38;5;28;01mas\u001b[39;00m _err:  \u001b[38;5;66;03m# pragma: no cover\u001b[39;00m\n\u001b[1;32m     30\u001b[0m     _module \u001b[38;5;241m=\u001b[39m _err\u001b[38;5;241m.\u001b[39mname\n\u001b[0;32m---> 31\u001b[0m     \u001b[38;5;28;01mraise\u001b[39;00m \u001b[38;5;167;01mImportError\u001b[39;00m(\n\u001b[1;32m     32\u001b[0m         \u001b[38;5;124mf\u001b[39m\u001b[38;5;124m\"\u001b[39m\u001b[38;5;124mC extension: \u001b[39m\u001b[38;5;132;01m{\u001b[39;00m_module\u001b[38;5;132;01m}\u001b[39;00m\u001b[38;5;124m not built. If you want to import \u001b[39m\u001b[38;5;124m\"\u001b[39m\n\u001b[1;32m     33\u001b[0m         \u001b[38;5;124m\"\u001b[39m\u001b[38;5;124mpandas from the source directory, you may need to run \u001b[39m\u001b[38;5;124m\"\u001b[39m\n\u001b[1;32m     34\u001b[0m         \u001b[38;5;124m\"\u001b[39m\u001b[38;5;124m'\u001b[39m\u001b[38;5;124mpython setup.py build_ext\u001b[39m\u001b[38;5;124m'\u001b[39m\u001b[38;5;124m to build the C extensions first.\u001b[39m\u001b[38;5;124m\"\u001b[39m\n\u001b[1;32m     35\u001b[0m     ) \u001b[38;5;28;01mfrom\u001b[39;00m\u001b[38;5;250m \u001b[39m\u001b[38;5;21;01m_err\u001b[39;00m\n\u001b[1;32m     37\u001b[0m \u001b[38;5;28;01mfrom\u001b[39;00m\u001b[38;5;250m \u001b[39m\u001b[38;5;21;01mpandas\u001b[39;00m\u001b[38;5;21;01m.\u001b[39;00m\u001b[38;5;21;01m_config\u001b[39;00m\u001b[38;5;250m \u001b[39m\u001b[38;5;28;01mimport\u001b[39;00m (\n\u001b[1;32m     38\u001b[0m     get_option,\n\u001b[1;32m     39\u001b[0m     set_option,\n\u001b[0;32m   (...)\u001b[0m\n\u001b[1;32m     43\u001b[0m     options,\n\u001b[1;32m     44\u001b[0m )\n\u001b[1;32m     46\u001b[0m \u001b[38;5;66;03m# let init-time option registration happen\u001b[39;00m\n",
      "\u001b[0;31mImportError\u001b[0m: C extension: None not built. If you want to import pandas from the source directory, you may need to run 'python setup.py build_ext' to build the C extensions first."
     ]
    }
   ],
   "source": [
    "from tabulate import tabulate  # Install this package: pip install tabulate\n",
    "import os\n",
    "import json\n",
    "import pandas as pd\n",
    "\n",
    "\n",
    "with open(\"FP-base-Chinese.json\", \"r\", encoding=\"utf-8\") as file:\n",
    "    data = json.load(file)\n",
    "# Create a DataFrame for statistical analysis\n",
    "df = pd.DataFrame(data)\n",
    "\n",
    "total_items = len(df)\n",
    "print(\"**********************************************************\")\n",
    "print(f\"Total number of items in the dataset: {total_items}\")\n",
    "print(\"**********************************************************\")\n",
    "\n",
    "# Count for each 'data_type'\n",
    "data_type_counts = df['data_type'].value_counts()\n",
    "print(\"**********************************************************\")\n",
    "print(\"Counts for each 'data_type':\")\n",
    "print(tabulate(data_type_counts.reset_index(), headers=['Data Type', 'Count'], tablefmt='grid'))\n",
    "print(\"**********************************************************\")\n",
    "\n",
    "# Count for each 'subcategory' under each 'category'\n",
    "subcategory_counts = df.groupby(['category', 'subcategory']).size().reset_index(name='Count')\n",
    "print(\"Counts for each 'subcategory' under each 'category':\")\n",
    "print(tabulate(subcategory_counts, headers=['Category', 'Subcategory', 'Count'], tablefmt='grid'))\n",
    "print(\"**********************************************************\")\n",
    "\n",
    "# Count for each 'category'\n",
    "category_counts = df['category'].value_counts()\n",
    "print(\"Counts for each 'category':\")\n",
    "print(tabulate(category_counts.reset_index(), headers=['Category', 'Count'], tablefmt='grid'))\n",
    "print(\"**********************************************************\")\n",
    "\n",
    "# Count for each 'language' (if applicable)\n",
    "if 'language' in df.columns:\n",
    "    language_counts = df['language'].value_counts()\n",
    "    print(\"Counts for each 'language':\")\n",
    "    print(tabulate(language_counts.reset_index(), headers=['Language', 'Count'], tablefmt='grid'))\n",
    "    print(\"**********************************************************\")\n",
    "\n"
   ]
  },
  {
   "cell_type": "code",
   "execution_count": 2,
   "metadata": {},
   "outputs": [
    {
     "name": "stdout",
     "output_type": "stream",
     "text": [
      "Combined data saved to FP-base/FP-base-full.json\n"
     ]
    }
   ],
   "source": [
    "import json\n",
    "\n",
    "\n",
    "# Load the data from JSON files\n",
    "def load_json(file_path):\n",
    "    with open(file_path, 'r', encoding='utf-8') as file:\n",
    "        return json.load(file)\n",
    "\n",
    "# Save the combined data to a JSON file\n",
    "def save_json(data, file_path):\n",
    "    with open(file_path, 'w', encoding='utf-8') as file:\n",
    "        json.dump(data, file, ensure_ascii=False, indent=4)\n",
    "\n",
    "# Combine two JSON files and re-order the 'id' key\n",
    "def combine_json(file1, file2, output_file):\n",
    "    data1 = load_json(file1)\n",
    "    data2 = load_json(file2)\n",
    "\n",
    "    # Combine the data\n",
    "    combined_data = data1 + data2\n",
    "\n",
    "    # Re-order the 'id' keys\n",
    "    for index, item in enumerate(combined_data):\n",
    "        if 'id' in item:\n",
    "            item['id'] = index + 1\n",
    "\n",
    "    # Save the combined data\n",
    "    save_json(combined_data, output_file)\n",
    "\n",
    "\n",
    "# File paths\n",
    "file1_path = 'unique_job_postings_more.json'\n",
    "file2_path = 'FP-base/FP-base-full.json'\n",
    "output_file_path = 'FP-base/FP-base-full.json'\n",
    "\n",
    "# Run the combine function\n",
    "combine_json(file1_path, file2_path, output_file_path)\n",
    "\n",
    "print(f\"Combined data saved to {output_file_path}\")\n"
   ]
  },
  {
   "cell_type": "code",
   "execution_count": 1,
   "metadata": {},
   "outputs": [
    {
     "name": "stdout",
     "output_type": "stream",
     "text": [
      "文件拆分完成！\n"
     ]
    }
   ],
   "source": [
    "import json\n",
    "\n",
    "# 读取 JSON 文件\n",
    "with open(\"baseline/baseline.json\", \"r\", encoding=\"utf-8\") as f:\n",
    "    data = json.load(f)\n",
    "\n",
    "# 初始化两个列表\n",
    "chinese_data = []\n",
    "english_data = []\n",
    "\n",
    "# 根据 language 字段拆分数据\n",
    "for entry in data:\n",
    "    if entry.get(\"language\") == \"Chinese\":\n",
    "        chinese_data.append(entry)\n",
    "    else:\n",
    "        english_data.append(entry)\n",
    "for index, item in enumerate(chinese_data):\n",
    "        if 'id' in item:\n",
    "            item['id'] = index + 1\n",
    "for index, item in enumerate(english_data):\n",
    "        if 'id' in item:\n",
    "            item['id'] = index + 1\n",
    "# 保存拆分后的数据\n",
    "with open(\"FP-base-Chinese.json\", \"w\", encoding=\"utf-8\") as f:\n",
    "    json.dump(chinese_data, f, ensure_ascii=False, indent=4)\n",
    "\n",
    "with open(\"FP-base-English.json\", \"w\", encoding=\"utf-8\") as f:\n",
    "    json.dump(english_data, f, ensure_ascii=False, indent=4)\n",
    "\n",
    "print(\"文件拆分完成！\")\n"
   ]
  },
  {
   "cell_type": "code",
   "execution_count": null,
   "metadata": {},
   "outputs": [
    {
     "name": "stdout",
     "output_type": "stream",
     "text": [
      "Items with category 'fake job posting' have been updated to have data type 'job post'.\n"
     ]
    }
   ],
   "source": [
    "import json\n",
    "\n",
    "# Load the JSON file\n",
    "with open('FP-base/FP-base-Chinese.json', 'r', encoding='utf-8') as f:\n",
    "    data = json.load(f)\n",
    "\n",
    "def update_item(item):\n",
    "    # Check if the item's category is \"fake job posting\"\n",
    "    if item.get(\"category\") == \"fake job posting\":\n",
    "        # Update the \"data type\" key to \"job post\"\n",
    "        item[\"data_type\"] = \"job posting\"\n",
    "    return item\n",
    "\n",
    "# Update each item in the data list\n",
    "for item in data:\n",
    "    update_item(item)\n",
    "\n",
    "# Save the updated data back to the JSON file\n",
    "with open('FP-base/FP-base-Chinese.json', 'w', encoding='utf-8') as f:\n",
    "    json.dump(data, f, ensure_ascii=False, indent=4)\n",
    "\n",
    "print(\"Items with category 'fake job posting' have been updated to have data type 'job post'.\")\n"
   ]
  },
  {
   "cell_type": "code",
   "execution_count": 6,
   "metadata": {},
   "outputs": [
    {
     "name": "stdout",
     "output_type": "stream",
     "text": [
      "Files combined successfully!\n"
     ]
    }
   ],
   "source": [
    "import json\n",
    "\n",
    "# Load the three JSON files with explicit UTF-8 encoding\n",
    "def load_json(file_path):\n",
    "    with open(file_path, 'r', encoding='utf-8') as file:\n",
    "        return json.load(file)\n",
    "\n",
    "# Combine the JSON data\n",
    "def combine_json(files):\n",
    "    combined_data = []\n",
    "    for file in files:\n",
    "        data = load_json(file)\n",
    "        combined_data.extend(data)  # Combine the data (assuming list format in JSON)\n",
    "    return combined_data\n",
    "\n",
    "# Save the combined JSON data into a new file with UTF-8 encoding\n",
    "def save_combined_json(data, output_file):\n",
    "    with open(output_file, 'w', encoding='utf-8') as file:\n",
    "        json.dump(data, file, indent=4, ensure_ascii=False)\n",
    "\n",
    "# File paths for the three JSON files\n",
    "json_files = [\n",
    "    'FP-base/part1_modified.json',\n",
    "    'FP-base/part2_modified.json',\n",
    "    'FP-base/part3.json'\n",
    "]\n",
    "\n",
    "combined_data = combine_json(json_files)\n",
    "\n",
    "# Reset the 'id' field for each item if it exists\n",
    "for index, item in enumerate(combined_data):\n",
    "    if 'id' in item:\n",
    "        item['id'] = index + 1\n",
    "\n",
    "# Save the combined data into a new file\n",
    "save_combined_json(combined_data, 'FP-base-Chinese.json')\n",
    "\n",
    "print(\"Files combined successfully!\")\n",
    "\n",
    "\n"
   ]
  },
  {
   "cell_type": "code",
   "execution_count": 1,
   "metadata": {},
   "outputs": [
    {
     "name": "stdout",
     "output_type": "stream",
     "text": [
      "Filtered JSON saved to: ./FP-base/FP-base-Chinese.json\n"
     ]
    }
   ],
   "source": [
    "import json\n",
    "\n",
    "def remove_network_relationships(input_file, output_file=None):\n",
    "    # 读取 JSON 文件\n",
    "    with open(input_file, 'r', encoding='utf-8') as f:\n",
    "        data = json.load(f)\n",
    "    \n",
    "    # 过滤掉 category 为 'network relationship' 的项\n",
    "    if isinstance(data, list):\n",
    "        filtered_data = [item for item in data if item.get(\"category\") != \"network friendship\"]\n",
    "    elif isinstance(data, dict):\n",
    "        filtered_data = {k: v for k, v in data.items() if not (isinstance(v, dict) and v.get(\"category\") == \"network friendship\")}\n",
    "    else:\n",
    "        print(\"Unsupported JSON structure.\")\n",
    "        return\n",
    "    \n",
    "    # 如果没有提供 output_file，则覆盖原文件\n",
    "    if output_file is None:\n",
    "        output_file = input_file\n",
    "    \n",
    "    # 写入过滤后的数据\n",
    "    with open(output_file, 'w', encoding='utf-8') as f:\n",
    "        json.dump(filtered_data, f, indent=4, ensure_ascii=False)\n",
    "    \n",
    "    print(f\"Filtered JSON saved to: {output_file}\")\n",
    "\n",
    "# 示例使用\n",
    "input_json_file = \"./FP-base/FP-base-Chinese.json\"  # 你的 JSON 文件名\n",
    "remove_network_relationships(input_json_file)\n"
   ]
  },
  {
   "cell_type": "code",
   "execution_count": 4,
   "metadata": {},
   "outputs": [
    {
     "name": "stdout",
     "output_type": "stream",
     "text": [
      "Saved: ./FP-base/FP-base-Chinese_part1.json\n",
      "Saved: ./FP-base/FP-base-Chinese_part2.json\n",
      "Saved: ./FP-base/FP-base-Chinese_part3.json\n",
      "Saved: ./FP-base/FP-base-Chinese_part4.json\n",
      "Saved: ./FP-base/FP-base-Chinese_part5.json\n",
      "Saved: ./FP-base/FP-base-Chinese_part6.json\n",
      "Saved: ./FP-base/FP-base-Chinese_part7.json\n",
      "Saved: ./FP-base/FP-base-Chinese_part8.json\n",
      "Saved: ./FP-base/FP-base-Chinese_part9.json\n",
      "Saved: ./FP-base/FP-base-Chinese_part10.json\n"
     ]
    }
   ],
   "source": [
    "import json\n",
    "def split_file(input_file, num_parts=10):\n",
    "    with open(input_file, 'r', encoding='utf-8') as f:\n",
    "        data = json.load(f)\n",
    "    \n",
    "    if not isinstance(data, list):\n",
    "        print(\"Only list-based JSON structures are supported for splitting.\")\n",
    "        return\n",
    "    \n",
    "    chunk_size = max(1, len(data) // num_parts)\n",
    "    \n",
    "    for i in range(num_parts):\n",
    "        part_data = data[i * chunk_size:(i + 1) * chunk_size]\n",
    "        part_filename = f\"{input_file.rsplit('.', 1)[0]}_part{i + 1}.json\"\n",
    "        with open(part_filename, 'w', encoding='utf-8') as f:\n",
    "            json.dump(part_data, f, indent=4, ensure_ascii=False)\n",
    "        print(f\"Saved: {part_filename}\")\n",
    "\n",
    "# 示例使用\n",
    "input_json_file = \"./FP-base/FP-base-Chinese.json\" # 你的 JSON 文件名\n",
    "split_file(input_json_file)\n"
   ]
  }
 ],
 "metadata": {
  "kernelspec": {
   "display_name": "Python 3",
   "language": "python",
   "name": "python3"
  },
  "language_info": {
   "codemirror_mode": {
    "name": "ipython",
    "version": 3
   },
   "file_extension": ".py",
   "mimetype": "text/x-python",
   "name": "python",
   "nbconvert_exporter": "python",
   "pygments_lexer": "ipython3",
   "version": "3.10.12"
  }
 },
 "nbformat": 4,
 "nbformat_minor": 2
}
