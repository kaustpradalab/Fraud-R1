{
 "cells": [
  {
   "cell_type": "code",
   "execution_count": 1,
   "metadata": {},
   "outputs": [
    {
     "name": "stdout",
     "output_type": "stream",
     "text": [
      "All JSON files have been combined and reindexed into Fraud24kRaw.json\n"
     ]
    }
   ],
   "source": [
    "import os\n",
    "import json\n",
    "\n",
    "# Folder containing the JSON files\n",
    "folder_path = \"./\"  # Update to your folder path\n",
    "output_file = \"Fraud24kRaw.json\"\n",
    "\n",
    "# Initialize an empty list to store data from all JSON files\n",
    "combined_data = []\n",
    "\n",
    "# Iterate through all files in the folder\n",
    "for filename in os.listdir(folder_path):\n",
    "    if filename.endswith(\".json\"):  # Process only JSON files\n",
    "        file_path = os.path.join(folder_path, filename)\n",
    "        \n",
    "        with open(file_path, \"r\", encoding=\"utf-8\") as json_file:\n",
    "            data = json.load(json_file)  # Load the content of the JSON file\n",
    "            # Check if the data is a list or a single object\n",
    "            if isinstance(data, list):\n",
    "                combined_data.extend(data)  # Append list data\n",
    "            else:\n",
    "                combined_data.append(data)  # Append single object\n",
    "\n",
    "# Reorder index (assign new unique IDs sequentially)\n",
    "for idx, item in enumerate(combined_data):\n",
    "    item['id'] = idx  # Reassign ID to be sequential starting from 0\n",
    "\n",
    "# Save the combined data to a single JSON file\n",
    "with open(output_file, \"w\", encoding=\"utf-8\") as out_file:\n",
    "    json.dump(combined_data, out_file, indent=4, ensure_ascii=False)\n",
    "\n",
    "print(f\"All JSON files have been combined and reindexed into {output_file}\")\n"
   ]
  },
  {
   "cell_type": "code",
   "execution_count": 7,
   "metadata": {},
   "outputs": [
    {
     "name": "stdout",
     "output_type": "stream",
     "text": [
      "**********************************************************\n",
      "Total number of items in the dataset: 1125\n",
      "**********************************************************\n",
      "**********************************************************\n",
      "Counts for each 'data_type':\n",
      "+----+-------------+---------+\n",
      "|    | Data Type   |   Count |\n",
      "+====+=============+=========+\n",
      "|  0 | message     |     739 |\n",
      "+----+-------------+---------+\n",
      "|  1 | email       |     236 |\n",
      "+----+-------------+---------+\n",
      "|  2 | job posting |     150 |\n",
      "+----+-------------+---------+\n",
      "**********************************************************\n",
      "Counts for each 'subcategory' under each 'category':\n",
      "+----+--------------------+------------------------------------------------------------------+---------+\n",
      "|    | Category           | Subcategory                                                      |   Count |\n",
      "+====+====================+==================================================================+=========+\n",
      "|  0 | fake job posting   | fake job posting                                                 |     150 |\n",
      "+----+--------------------+------------------------------------------------------------------+---------+\n",
      "|  1 | fraudulent service | e-commerce logistics and shopping                                |     150 |\n",
      "+----+--------------------+------------------------------------------------------------------+---------+\n",
      "|  2 | fraudulent service | investment and financial management                              |     150 |\n",
      "+----+--------------------+------------------------------------------------------------------+---------+\n",
      "|  3 | impersonation      | acquaintances                                                    |     150 |\n",
      "+----+--------------------+------------------------------------------------------------------+---------+\n",
      "|  4 | impersonation      | public security, prosecution, judiciary, and government agencies |     150 |\n",
      "+----+--------------------+------------------------------------------------------------------+---------+\n",
      "|  5 | network friendship | marriage and dating                                              |     139 |\n",
      "+----+--------------------+------------------------------------------------------------------+---------+\n",
      "|  6 | phishing           | commercial spam                                                  |      80 |\n",
      "+----+--------------------+------------------------------------------------------------------+---------+\n",
      "|  7 | phishing           | fraud email                                                      |      80 |\n",
      "+----+--------------------+------------------------------------------------------------------+---------+\n",
      "|  8 | phishing           | phishing email                                                   |      76 |\n",
      "+----+--------------------+------------------------------------------------------------------+---------+\n",
      "**********************************************************\n",
      "Counts for each 'category':\n",
      "+----+--------------------+---------+\n",
      "|    | Category           |   Count |\n",
      "+====+====================+=========+\n",
      "|  0 | impersonation      |     300 |\n",
      "+----+--------------------+---------+\n",
      "|  1 | fraudulent service |     300 |\n",
      "+----+--------------------+---------+\n",
      "|  2 | phishing           |     236 |\n",
      "+----+--------------------+---------+\n",
      "|  3 | fake job posting   |     150 |\n",
      "+----+--------------------+---------+\n",
      "|  4 | network friendship |     139 |\n",
      "+----+--------------------+---------+\n",
      "**********************************************************\n",
      "Counts for each 'language':\n",
      "+----+------------+---------+\n",
      "|    | Language   |   Count |\n",
      "+====+============+=========+\n",
      "|  0 | Chinese    |    1125 |\n",
      "+----+------------+---------+\n",
      "**********************************************************\n"
     ]
    }
   ],
   "source": [
    "from tabulate import tabulate  # Install this package: pip install tabulate\n",
    "import os\n",
    "import json\n",
    "import pandas as pd\n",
    "\n",
    "\n",
    "with open(\"FP-base/FP-base-Chinese.json\", \"r\", encoding=\"utf-8\") as file:\n",
    "    data = json.load(file)\n",
    "# Create a DataFrame for statistical analysis\n",
    "df = pd.DataFrame(data)\n",
    "\n",
    "total_items = len(df)\n",
    "print(\"**********************************************************\")\n",
    "print(f\"Total number of items in the dataset: {total_items}\")\n",
    "print(\"**********************************************************\")\n",
    "\n",
    "# Count for each 'data_type'\n",
    "data_type_counts = df['data_type'].value_counts()\n",
    "print(\"**********************************************************\")\n",
    "print(\"Counts for each 'data_type':\")\n",
    "print(tabulate(data_type_counts.reset_index(), headers=['Data Type', 'Count'], tablefmt='grid'))\n",
    "print(\"**********************************************************\")\n",
    "\n",
    "# Count for each 'subcategory' under each 'category'\n",
    "subcategory_counts = df.groupby(['category', 'subcategory']).size().reset_index(name='Count')\n",
    "print(\"Counts for each 'subcategory' under each 'category':\")\n",
    "print(tabulate(subcategory_counts, headers=['Category', 'Subcategory', 'Count'], tablefmt='grid'))\n",
    "print(\"**********************************************************\")\n",
    "\n",
    "# Count for each 'category'\n",
    "category_counts = df['category'].value_counts()\n",
    "print(\"Counts for each 'category':\")\n",
    "print(tabulate(category_counts.reset_index(), headers=['Category', 'Count'], tablefmt='grid'))\n",
    "print(\"**********************************************************\")\n",
    "\n",
    "# Count for each 'language' (if applicable)\n",
    "if 'language' in df.columns:\n",
    "    language_counts = df['language'].value_counts()\n",
    "    print(\"Counts for each 'language':\")\n",
    "    print(tabulate(language_counts.reset_index(), headers=['Language', 'Count'], tablefmt='grid'))\n",
    "    print(\"**********************************************************\")\n",
    "\n"
   ]
  },
  {
   "cell_type": "code",
   "execution_count": 2,
   "metadata": {},
   "outputs": [
    {
     "name": "stdout",
     "output_type": "stream",
     "text": [
      "Combined data saved to FP-base/FP-base-full.json\n"
     ]
    }
   ],
   "source": [
    "import json\n",
    "\n",
    "\n",
    "# Load the data from JSON files\n",
    "def load_json(file_path):\n",
    "    with open(file_path, 'r', encoding='utf-8') as file:\n",
    "        return json.load(file)\n",
    "\n",
    "# Save the combined data to a JSON file\n",
    "def save_json(data, file_path):\n",
    "    with open(file_path, 'w', encoding='utf-8') as file:\n",
    "        json.dump(data, file, ensure_ascii=False, indent=4)\n",
    "\n",
    "# Combine two JSON files and re-order the 'id' key\n",
    "def combine_json(file1, file2, output_file):\n",
    "    data1 = load_json(file1)\n",
    "    data2 = load_json(file2)\n",
    "\n",
    "    # Combine the data\n",
    "    combined_data = data1 + data2\n",
    "\n",
    "    # Re-order the 'id' keys\n",
    "    for index, item in enumerate(combined_data):\n",
    "        if 'id' in item:\n",
    "            item['id'] = index + 1\n",
    "\n",
    "    # Save the combined data\n",
    "    save_json(combined_data, output_file)\n",
    "\n",
    "\n",
    "# File paths\n",
    "file1_path = 'unique_job_postings_more.json'\n",
    "file2_path = 'FP-base/FP-base-full.json'\n",
    "output_file_path = 'FP-base/FP-base-full.json'\n",
    "\n",
    "# Run the combine function\n",
    "combine_json(file1_path, file2_path, output_file_path)\n",
    "\n",
    "print(f\"Combined data saved to {output_file_path}\")\n"
   ]
  },
  {
   "cell_type": "code",
   "execution_count": 1,
   "metadata": {},
   "outputs": [
    {
     "name": "stdout",
     "output_type": "stream",
     "text": [
      "文件拆分完成！\n"
     ]
    }
   ],
   "source": [
    "import json\n",
    "\n",
    "# 读取 JSON 文件\n",
    "with open(\"baseline/baseline.json\", \"r\", encoding=\"utf-8\") as f:\n",
    "    data = json.load(f)\n",
    "\n",
    "# 初始化两个列表\n",
    "chinese_data = []\n",
    "english_data = []\n",
    "\n",
    "# 根据 language 字段拆分数据\n",
    "for entry in data:\n",
    "    if entry.get(\"language\") == \"Chinese\":\n",
    "        chinese_data.append(entry)\n",
    "    else:\n",
    "        english_data.append(entry)\n",
    "for index, item in enumerate(chinese_data):\n",
    "        if 'id' in item:\n",
    "            item['id'] = index + 1\n",
    "for index, item in enumerate(english_data):\n",
    "        if 'id' in item:\n",
    "            item['id'] = index + 1\n",
    "# 保存拆分后的数据\n",
    "with open(\"FP-base-Chinese.json\", \"w\", encoding=\"utf-8\") as f:\n",
    "    json.dump(chinese_data, f, ensure_ascii=False, indent=4)\n",
    "\n",
    "with open(\"FP-base-English.json\", \"w\", encoding=\"utf-8\") as f:\n",
    "    json.dump(english_data, f, ensure_ascii=False, indent=4)\n",
    "\n",
    "print(\"文件拆分完成！\")\n"
   ]
  },
  {
   "cell_type": "code",
   "execution_count": 6,
   "metadata": {},
   "outputs": [
    {
     "name": "stdout",
     "output_type": "stream",
     "text": [
      "Items with category 'fake job posting' have been updated to have data type 'job post'.\n"
     ]
    }
   ],
   "source": [
    "import json\n",
    "\n",
    "# Load the JSON file\n",
    "with open('FP-base/FP-base-Chinese.json', 'r', encoding='utf-8') as f:\n",
    "    data = json.load(f)\n",
    "\n",
    "def update_item(item):\n",
    "    # Check if the item's category is \"fake job posting\"\n",
    "    if item.get(\"category\") == \"fake job posting\":\n",
    "        # Update the \"data type\" key to \"job post\"\n",
    "        item[\"data_type\"] = \"job posting\"\n",
    "    return item\n",
    "\n",
    "# Update each item in the data list\n",
    "for item in data:\n",
    "    update_item(item)\n",
    "\n",
    "# Save the updated data back to the JSON file\n",
    "with open('FP-base/FP-base-Chinese.json', 'w', encoding='utf-8') as f:\n",
    "    json.dump(data, f, ensure_ascii=False, indent=4)\n",
    "\n",
    "print(\"Items with category 'fake job posting' have been updated to have data type 'job post'.\")\n"
   ]
  },
  {
   "cell_type": "code",
   "execution_count": 3,
   "metadata": {},
   "outputs": [
    {
     "ename": "JSONDecodeError",
     "evalue": "Expecting value: line 1 column 1 (char 0)",
     "output_type": "error",
     "traceback": [
      "\u001b[1;31m---------------------------------------------------------------------------\u001b[0m",
      "\u001b[1;31mJSONDecodeError\u001b[0m                           Traceback (most recent call last)",
      "Cell \u001b[1;32mIn[3], line 3\u001b[0m\n\u001b[0;32m      1\u001b[0m \u001b[38;5;28;01mimport\u001b[39;00m \u001b[38;5;21;01mjson\u001b[39;00m\n\u001b[0;32m      2\u001b[0m \u001b[38;5;28;01mwith\u001b[39;00m \u001b[38;5;28mopen\u001b[39m(\u001b[38;5;124m\"\u001b[39m\u001b[38;5;124m../results/baseline/3o-mini/baseline-result.json\u001b[39m\u001b[38;5;124m\"\u001b[39m, \u001b[38;5;124m\"\u001b[39m\u001b[38;5;124mr\u001b[39m\u001b[38;5;124m\"\u001b[39m, encoding\u001b[38;5;241m=\u001b[39m\u001b[38;5;124m\"\u001b[39m\u001b[38;5;124mutf-8\u001b[39m\u001b[38;5;124m\"\u001b[39m) \u001b[38;5;28;01mas\u001b[39;00m f:\n\u001b[1;32m----> 3\u001b[0m     data \u001b[38;5;241m=\u001b[39m json\u001b[38;5;241m.\u001b[39mload(f)\n\u001b[0;32m      4\u001b[0m \u001b[38;5;28;01mwith\u001b[39;00m \u001b[38;5;28mopen\u001b[39m(\u001b[38;5;124m\"\u001b[39m\u001b[38;5;124m../results/baseline/3o-mini/baseline-result.json\u001b[39m\u001b[38;5;124m\"\u001b[39m, \u001b[38;5;124m\"\u001b[39m\u001b[38;5;124mw\u001b[39m\u001b[38;5;124m\"\u001b[39m, encoding\u001b[38;5;241m=\u001b[39m\u001b[38;5;124m\"\u001b[39m\u001b[38;5;124mutf-8\u001b[39m\u001b[38;5;124m\"\u001b[39m) \u001b[38;5;28;01mas\u001b[39;00m f:\n\u001b[0;32m      5\u001b[0m     json\u001b[38;5;241m.\u001b[39mdump(data, f, ensure_ascii\u001b[38;5;241m=\u001b[39m\u001b[38;5;28;01mFalse\u001b[39;00m, indent\u001b[38;5;241m=\u001b[39m\u001b[38;5;241m4\u001b[39m)\n",
      "File \u001b[1;32md:\\Tool\\Anaconda\\Lib\\json\\__init__.py:293\u001b[0m, in \u001b[0;36mload\u001b[1;34m(fp, cls, object_hook, parse_float, parse_int, parse_constant, object_pairs_hook, **kw)\u001b[0m\n\u001b[0;32m    274\u001b[0m \u001b[38;5;28;01mdef\u001b[39;00m \u001b[38;5;21mload\u001b[39m(fp, \u001b[38;5;241m*\u001b[39m, \u001b[38;5;28mcls\u001b[39m\u001b[38;5;241m=\u001b[39m\u001b[38;5;28;01mNone\u001b[39;00m, object_hook\u001b[38;5;241m=\u001b[39m\u001b[38;5;28;01mNone\u001b[39;00m, parse_float\u001b[38;5;241m=\u001b[39m\u001b[38;5;28;01mNone\u001b[39;00m,\n\u001b[0;32m    275\u001b[0m         parse_int\u001b[38;5;241m=\u001b[39m\u001b[38;5;28;01mNone\u001b[39;00m, parse_constant\u001b[38;5;241m=\u001b[39m\u001b[38;5;28;01mNone\u001b[39;00m, object_pairs_hook\u001b[38;5;241m=\u001b[39m\u001b[38;5;28;01mNone\u001b[39;00m, \u001b[38;5;241m*\u001b[39m\u001b[38;5;241m*\u001b[39mkw):\n\u001b[0;32m    276\u001b[0m \u001b[38;5;250m    \u001b[39m\u001b[38;5;124;03m\"\"\"Deserialize ``fp`` (a ``.read()``-supporting file-like object containing\u001b[39;00m\n\u001b[0;32m    277\u001b[0m \u001b[38;5;124;03m    a JSON document) to a Python object.\u001b[39;00m\n\u001b[0;32m    278\u001b[0m \n\u001b[1;32m   (...)\u001b[0m\n\u001b[0;32m    291\u001b[0m \u001b[38;5;124;03m    kwarg; otherwise ``JSONDecoder`` is used.\u001b[39;00m\n\u001b[0;32m    292\u001b[0m \u001b[38;5;124;03m    \"\"\"\u001b[39;00m\n\u001b[1;32m--> 293\u001b[0m     \u001b[38;5;28;01mreturn\u001b[39;00m loads(fp\u001b[38;5;241m.\u001b[39mread(),\n\u001b[0;32m    294\u001b[0m         \u001b[38;5;28mcls\u001b[39m\u001b[38;5;241m=\u001b[39m\u001b[38;5;28mcls\u001b[39m, object_hook\u001b[38;5;241m=\u001b[39mobject_hook,\n\u001b[0;32m    295\u001b[0m         parse_float\u001b[38;5;241m=\u001b[39mparse_float, parse_int\u001b[38;5;241m=\u001b[39mparse_int,\n\u001b[0;32m    296\u001b[0m         parse_constant\u001b[38;5;241m=\u001b[39mparse_constant, object_pairs_hook\u001b[38;5;241m=\u001b[39mobject_pairs_hook, \u001b[38;5;241m*\u001b[39m\u001b[38;5;241m*\u001b[39mkw)\n",
      "File \u001b[1;32md:\\Tool\\Anaconda\\Lib\\json\\__init__.py:346\u001b[0m, in \u001b[0;36mloads\u001b[1;34m(s, cls, object_hook, parse_float, parse_int, parse_constant, object_pairs_hook, **kw)\u001b[0m\n\u001b[0;32m    341\u001b[0m     s \u001b[38;5;241m=\u001b[39m s\u001b[38;5;241m.\u001b[39mdecode(detect_encoding(s), \u001b[38;5;124m'\u001b[39m\u001b[38;5;124msurrogatepass\u001b[39m\u001b[38;5;124m'\u001b[39m)\n\u001b[0;32m    343\u001b[0m \u001b[38;5;28;01mif\u001b[39;00m (\u001b[38;5;28mcls\u001b[39m \u001b[38;5;129;01mis\u001b[39;00m \u001b[38;5;28;01mNone\u001b[39;00m \u001b[38;5;129;01mand\u001b[39;00m object_hook \u001b[38;5;129;01mis\u001b[39;00m \u001b[38;5;28;01mNone\u001b[39;00m \u001b[38;5;129;01mand\u001b[39;00m\n\u001b[0;32m    344\u001b[0m         parse_int \u001b[38;5;129;01mis\u001b[39;00m \u001b[38;5;28;01mNone\u001b[39;00m \u001b[38;5;129;01mand\u001b[39;00m parse_float \u001b[38;5;129;01mis\u001b[39;00m \u001b[38;5;28;01mNone\u001b[39;00m \u001b[38;5;129;01mand\u001b[39;00m\n\u001b[0;32m    345\u001b[0m         parse_constant \u001b[38;5;129;01mis\u001b[39;00m \u001b[38;5;28;01mNone\u001b[39;00m \u001b[38;5;129;01mand\u001b[39;00m object_pairs_hook \u001b[38;5;129;01mis\u001b[39;00m \u001b[38;5;28;01mNone\u001b[39;00m \u001b[38;5;129;01mand\u001b[39;00m \u001b[38;5;129;01mnot\u001b[39;00m kw):\n\u001b[1;32m--> 346\u001b[0m     \u001b[38;5;28;01mreturn\u001b[39;00m _default_decoder\u001b[38;5;241m.\u001b[39mdecode(s)\n\u001b[0;32m    347\u001b[0m \u001b[38;5;28;01mif\u001b[39;00m \u001b[38;5;28mcls\u001b[39m \u001b[38;5;129;01mis\u001b[39;00m \u001b[38;5;28;01mNone\u001b[39;00m:\n\u001b[0;32m    348\u001b[0m     \u001b[38;5;28mcls\u001b[39m \u001b[38;5;241m=\u001b[39m JSONDecoder\n",
      "File \u001b[1;32md:\\Tool\\Anaconda\\Lib\\json\\decoder.py:337\u001b[0m, in \u001b[0;36mJSONDecoder.decode\u001b[1;34m(self, s, _w)\u001b[0m\n\u001b[0;32m    332\u001b[0m \u001b[38;5;28;01mdef\u001b[39;00m \u001b[38;5;21mdecode\u001b[39m(\u001b[38;5;28mself\u001b[39m, s, _w\u001b[38;5;241m=\u001b[39mWHITESPACE\u001b[38;5;241m.\u001b[39mmatch):\n\u001b[0;32m    333\u001b[0m \u001b[38;5;250m    \u001b[39m\u001b[38;5;124;03m\"\"\"Return the Python representation of ``s`` (a ``str`` instance\u001b[39;00m\n\u001b[0;32m    334\u001b[0m \u001b[38;5;124;03m    containing a JSON document).\u001b[39;00m\n\u001b[0;32m    335\u001b[0m \n\u001b[0;32m    336\u001b[0m \u001b[38;5;124;03m    \"\"\"\u001b[39;00m\n\u001b[1;32m--> 337\u001b[0m     obj, end \u001b[38;5;241m=\u001b[39m \u001b[38;5;28mself\u001b[39m\u001b[38;5;241m.\u001b[39mraw_decode(s, idx\u001b[38;5;241m=\u001b[39m_w(s, \u001b[38;5;241m0\u001b[39m)\u001b[38;5;241m.\u001b[39mend())\n\u001b[0;32m    338\u001b[0m     end \u001b[38;5;241m=\u001b[39m _w(s, end)\u001b[38;5;241m.\u001b[39mend()\n\u001b[0;32m    339\u001b[0m     \u001b[38;5;28;01mif\u001b[39;00m end \u001b[38;5;241m!=\u001b[39m \u001b[38;5;28mlen\u001b[39m(s):\n",
      "File \u001b[1;32md:\\Tool\\Anaconda\\Lib\\json\\decoder.py:355\u001b[0m, in \u001b[0;36mJSONDecoder.raw_decode\u001b[1;34m(self, s, idx)\u001b[0m\n\u001b[0;32m    353\u001b[0m     obj, end \u001b[38;5;241m=\u001b[39m \u001b[38;5;28mself\u001b[39m\u001b[38;5;241m.\u001b[39mscan_once(s, idx)\n\u001b[0;32m    354\u001b[0m \u001b[38;5;28;01mexcept\u001b[39;00m \u001b[38;5;167;01mStopIteration\u001b[39;00m \u001b[38;5;28;01mas\u001b[39;00m err:\n\u001b[1;32m--> 355\u001b[0m     \u001b[38;5;28;01mraise\u001b[39;00m JSONDecodeError(\u001b[38;5;124m\"\u001b[39m\u001b[38;5;124mExpecting value\u001b[39m\u001b[38;5;124m\"\u001b[39m, s, err\u001b[38;5;241m.\u001b[39mvalue) \u001b[38;5;28;01mfrom\u001b[39;00m \u001b[38;5;28;01mNone\u001b[39;00m\n\u001b[0;32m    356\u001b[0m \u001b[38;5;28;01mreturn\u001b[39;00m obj, end\n",
      "\u001b[1;31mJSONDecodeError\u001b[0m: Expecting value: line 1 column 1 (char 0)"
     ]
    }
   ],
   "source": [
    "import json\n",
    "with open(\"../results/baseline/3o-mini/baseline-result.json\", \"r\", encoding=\"utf-8\") as f:\n",
    "    data = json.load(f)\n",
    "with open(\"../results/baseline/3o-mini/baseline-result.json\", \"w\", encoding=\"utf-8\") as f:\n",
    "    json.dump(data, f, ensure_ascii=False, indent=4)"
   ]
  },
  {
   "cell_type": "code",
   "execution_count": 6,
   "metadata": {},
   "outputs": [
    {
     "name": "stdout",
     "output_type": "stream",
     "text": [
      "Files combined successfully!\n"
     ]
    }
   ],
   "source": [
    "import json\n",
    "\n",
    "# Load the three JSON files with explicit UTF-8 encoding\n",
    "def load_json(file_path):\n",
    "    with open(file_path, 'r', encoding='utf-8') as file:\n",
    "        return json.load(file)\n",
    "\n",
    "# Combine the JSON data\n",
    "def combine_json(files):\n",
    "    combined_data = []\n",
    "    for file in files:\n",
    "        data = load_json(file)\n",
    "        combined_data.extend(data)  # Combine the data (assuming list format in JSON)\n",
    "    return combined_data\n",
    "\n",
    "# Save the combined JSON data into a new file with UTF-8 encoding\n",
    "def save_combined_json(data, output_file):\n",
    "    with open(output_file, 'w', encoding='utf-8') as file:\n",
    "        json.dump(data, file, indent=4, ensure_ascii=False)\n",
    "\n",
    "# File paths for the three JSON files\n",
    "json_files = [\n",
    "    'FP-base/part1_modified.json',\n",
    "    'FP-base/part2_modified.json',\n",
    "    'FP-base/part3.json'\n",
    "]\n",
    "\n",
    "combined_data = combine_json(json_files)\n",
    "\n",
    "# Reset the 'id' field for each item if it exists\n",
    "for index, item in enumerate(combined_data):\n",
    "    if 'id' in item:\n",
    "        item['id'] = index + 1\n",
    "\n",
    "# Save the combined data into a new file\n",
    "save_combined_json(combined_data, 'FP-base-Chinese.json')\n",
    "\n",
    "print(\"Files combined successfully!\")\n",
    "\n",
    "\n"
   ]
  },
  {
   "cell_type": "code",
   "execution_count": null,
   "metadata": {},
   "outputs": [],
   "source": [
    "\n"
   ]
  }
 ],
 "metadata": {
  "kernelspec": {
   "display_name": "fra",
   "language": "python",
   "name": "python3"
  },
  "language_info": {
   "codemirror_mode": {
    "name": "ipython",
    "version": 3
   },
   "file_extension": ".py",
   "mimetype": "text/x-python",
   "name": "python",
   "nbconvert_exporter": "python",
   "pygments_lexer": "ipython3",
   "version": "3.10.16"
  }
 },
 "nbformat": 4,
 "nbformat_minor": 2
}
