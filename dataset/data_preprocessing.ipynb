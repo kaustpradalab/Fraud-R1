{
 "cells": [
  {
   "cell_type": "code",
   "execution_count": 1,
   "metadata": {},
   "outputs": [
    {
     "name": "stdout",
     "output_type": "stream",
     "text": [
      "All JSON files have been combined and reindexed into Fraud24kRaw.json\n"
     ]
    }
   ],
   "source": [
    "import os\n",
    "import json\n",
    "\n",
    "# Folder containing the JSON files\n",
    "folder_path = \"./\"  # Update to your folder path\n",
    "output_file = \"Fraud24kRaw.json\"\n",
    "\n",
    "# Initialize an empty list to store data from all JSON files\n",
    "combined_data = []\n",
    "\n",
    "# Iterate through all files in the folder\n",
    "for filename in os.listdir(folder_path):\n",
    "    if filename.endswith(\".json\"):  # Process only JSON files\n",
    "        file_path = os.path.join(folder_path, filename)\n",
    "        \n",
    "        with open(file_path, \"r\", encoding=\"utf-8\") as json_file:\n",
    "            data = json.load(json_file)  # Load the content of the JSON file\n",
    "            # Check if the data is a list or a single object\n",
    "            if isinstance(data, list):\n",
    "                combined_data.extend(data)  # Append list data\n",
    "            else:\n",
    "                combined_data.append(data)  # Append single object\n",
    "\n",
    "# Reorder index (assign new unique IDs sequentially)\n",
    "for idx, item in enumerate(combined_data):\n",
    "    item['id'] = idx  # Reassign ID to be sequential starting from 0\n",
    "\n",
    "# Save the combined data to a single JSON file\n",
    "with open(output_file, \"w\", encoding=\"utf-8\") as out_file:\n",
    "    json.dump(combined_data, out_file, indent=4, ensure_ascii=False)\n",
    "\n",
    "print(f\"All JSON files have been combined and reindexed into {output_file}\")\n"
   ]
  },
  {
   "cell_type": "code",
   "execution_count": 28,
   "metadata": {},
   "outputs": [
    {
     "name": "stdout",
     "output_type": "stream",
     "text": [
      "**********************************************************\n",
      "Total number of items in the dataset: 1071\n",
      "**********************************************************\n",
      "**********************************************************\n",
      "Counts for each 'data_type':\n",
      "+----+-------------+---------+\n",
      "|    | Data Type   |   Count |\n",
      "+====+=============+=========+\n",
      "|  0 | message     |     685 |\n",
      "+----+-------------+---------+\n",
      "|  1 | email       |     236 |\n",
      "+----+-------------+---------+\n",
      "|  2 | job posting |     150 |\n",
      "+----+-------------+---------+\n",
      "**********************************************************\n",
      "Counts for each 'subcategory' under each 'category':\n",
      "+----+--------------------+------------------------------------------------------------------+---------+\n",
      "|    | Category           | Subcategory                                                      |   Count |\n",
      "+====+====================+==================================================================+=========+\n",
      "|  0 | fake job posting   | fake job posting                                                 |     150 |\n",
      "+----+--------------------+------------------------------------------------------------------+---------+\n",
      "|  1 | fraudulent service | e-commerce logistics and shopping                                |     150 |\n",
      "+----+--------------------+------------------------------------------------------------------+---------+\n",
      "|  2 | fraudulent service | investment and financial management                              |     150 |\n",
      "+----+--------------------+------------------------------------------------------------------+---------+\n",
      "|  3 | impersonation      | acquaintances                                                    |     150 |\n",
      "+----+--------------------+------------------------------------------------------------------+---------+\n",
      "|  4 | impersonation      | public security, prosecution, judiciary, and government agencies |     150 |\n",
      "+----+--------------------+------------------------------------------------------------------+---------+\n",
      "|  5 | network friendship | network friendship                                               |      85 |\n",
      "+----+--------------------+------------------------------------------------------------------+---------+\n",
      "|  6 | phishing           | commercial spam                                                  |      80 |\n",
      "+----+--------------------+------------------------------------------------------------------+---------+\n",
      "|  7 | phishing           | fraud email                                                      |      80 |\n",
      "+----+--------------------+------------------------------------------------------------------+---------+\n",
      "|  8 | phishing           | phishing email                                                   |      76 |\n",
      "+----+--------------------+------------------------------------------------------------------+---------+\n",
      "**********************************************************\n",
      "Counts for each 'category':\n",
      "+----+--------------------+---------+\n",
      "|    | Category           |   Count |\n",
      "+====+====================+=========+\n",
      "|  0 | fraudulent service |     300 |\n",
      "+----+--------------------+---------+\n",
      "|  1 | impersonation      |     300 |\n",
      "+----+--------------------+---------+\n",
      "|  2 | phishing           |     236 |\n",
      "+----+--------------------+---------+\n",
      "|  3 | fake job posting   |     150 |\n",
      "+----+--------------------+---------+\n",
      "|  4 | network friendship |      85 |\n",
      "+----+--------------------+---------+\n",
      "**********************************************************\n",
      "Counts for each 'language':\n",
      "+----+------------+---------+\n",
      "|    | Language   |   Count |\n",
      "+====+============+=========+\n",
      "|  0 | English    |    1071 |\n",
      "+----+------------+---------+\n",
      "**********************************************************\n"
     ]
    }
   ],
   "source": [
    "from tabulate import tabulate  # Install this package: pip install tabulate\n",
    "import os\n",
    "import json\n",
    "import pandas as pd\n",
    "\n",
    "\n",
    "with open(\"./FP-base-origin/FP-base-English.json\", \"r\", encoding=\"utf-8\") as file:\n",
    "    data = json.load(file)\n",
    "# Create a DataFrame for statistical analysis\n",
    "df = pd.DataFrame(data)\n",
    "\n",
    "total_items = len(df)\n",
    "print(\"**********************************************************\")\n",
    "print(f\"Total number of items in the dataset: {total_items}\")\n",
    "print(\"**********************************************************\")\n",
    "\n",
    "# Count for each 'data_type'\n",
    "data_type_counts = df['data_type'].value_counts()\n",
    "print(\"**********************************************************\")\n",
    "print(\"Counts for each 'data_type':\")\n",
    "print(tabulate(data_type_counts.reset_index(), headers=['Data Type', 'Count'], tablefmt='grid'))\n",
    "print(\"**********************************************************\")\n",
    "\n",
    "# Count for each 'subcategory' under each 'category'\n",
    "subcategory_counts = df.groupby(['category', 'subcategory']).size().reset_index(name='Count')\n",
    "print(\"Counts for each 'subcategory' under each 'category':\")\n",
    "print(tabulate(subcategory_counts, headers=['Category', 'Subcategory', 'Count'], tablefmt='grid'))\n",
    "print(\"**********************************************************\")\n",
    "\n",
    "# Count for each 'category'\n",
    "category_counts = df['category'].value_counts()\n",
    "print(\"Counts for each 'category':\")\n",
    "print(tabulate(category_counts.reset_index(), headers=['Category', 'Count'], tablefmt='grid'))\n",
    "print(\"**********************************************************\")\n",
    "\n",
    "# Count for each 'language' (if applicable)\n",
    "if 'language' in df.columns:\n",
    "    language_counts = df['language'].value_counts()\n",
    "    print(\"Counts for each 'language':\")\n",
    "    print(tabulate(language_counts.reset_index(), headers=['Language', 'Count'], tablefmt='grid'))\n",
    "    print(\"**********************************************************\")\n",
    "\n"
   ]
  },
  {
   "cell_type": "code",
   "execution_count": 2,
   "metadata": {},
   "outputs": [
    {
     "name": "stdout",
     "output_type": "stream",
     "text": [
      "Combined data saved to FP-base/FP-base-full.json\n"
     ]
    }
   ],
   "source": [
    "import json\n",
    "\n",
    "\n",
    "# Load the data from JSON files\n",
    "def load_json(file_path):\n",
    "    with open(file_path, 'r', encoding='utf-8') as file:\n",
    "        return json.load(file)\n",
    "\n",
    "# Save the combined data to a JSON file\n",
    "def save_json(data, file_path):\n",
    "    with open(file_path, 'w', encoding='utf-8') as file:\n",
    "        json.dump(data, file, ensure_ascii=False, indent=4)\n",
    "\n",
    "# Combine two JSON files and re-order the 'id' key\n",
    "def combine_json(file1, file2, output_file):\n",
    "    data1 = load_json(file1)\n",
    "    data2 = load_json(file2)\n",
    "\n",
    "    # Combine the data\n",
    "    combined_data = data1 + data2\n",
    "\n",
    "    # Re-order the 'id' keys\n",
    "    for index, item in enumerate(combined_data):\n",
    "        if 'id' in item:\n",
    "            item['id'] = index + 1\n",
    "\n",
    "    # Save the combined data\n",
    "    save_json(combined_data, output_file)\n",
    "\n",
    "\n",
    "# File paths\n",
    "file1_path = 'unique_job_postings_more.json'\n",
    "file2_path = 'FP-base/FP-base-full.json'\n",
    "output_file_path = 'FP-base/FP-base-full.json'\n",
    "\n",
    "# Run the combine function\n",
    "combine_json(file1_path, file2_path, output_file_path)\n",
    "\n",
    "print(f\"Combined data saved to {output_file_path}\")\n"
   ]
  },
  {
   "cell_type": "code",
   "execution_count": 1,
   "metadata": {},
   "outputs": [
    {
     "name": "stdout",
     "output_type": "stream",
     "text": [
      "文件拆分完成！\n"
     ]
    }
   ],
   "source": [
    "import json\n",
    "\n",
    "# 读取 JSON 文件\n",
    "with open(\"baseline/baseline.json\", \"r\", encoding=\"utf-8\") as f:\n",
    "    data = json.load(f)\n",
    "\n",
    "# 初始化两个列表\n",
    "chinese_data = []\n",
    "english_data = []\n",
    "\n",
    "# 根据 language 字段拆分数据\n",
    "for entry in data:\n",
    "    if entry.get(\"language\") == \"Chinese\":\n",
    "        chinese_data.append(entry)\n",
    "    else:\n",
    "        english_data.append(entry)\n",
    "for index, item in enumerate(chinese_data):\n",
    "        if 'id' in item:\n",
    "            item['id'] = index + 1\n",
    "for index, item in enumerate(english_data):\n",
    "        if 'id' in item:\n",
    "            item['id'] = index + 1\n",
    "# 保存拆分后的数据\n",
    "with open(\"FP-base-Chinese.json\", \"w\", encoding=\"utf-8\") as f:\n",
    "    json.dump(chinese_data, f, ensure_ascii=False, indent=4)\n",
    "\n",
    "with open(\"FP-base-English.json\", \"w\", encoding=\"utf-8\") as f:\n",
    "    json.dump(english_data, f, ensure_ascii=False, indent=4)\n",
    "\n",
    "print(\"文件拆分完成！\")\n"
   ]
  },
  {
   "cell_type": "code",
   "execution_count": null,
   "metadata": {},
   "outputs": [
    {
     "name": "stdout",
     "output_type": "stream",
     "text": [
      "Items with category 'fake job posting' have been updated to have data type 'job post'.\n"
     ]
    }
   ],
   "source": [
    "import json\n",
    "\n",
    "# Load the JSON file\n",
    "with open('FP-base-origin/FP-base-Chinese.json', 'r', encoding='utf-8') as f:\n",
    "    data = json.load(f)\n",
    "\n",
    "def update_item(item):\n",
    "    # Check if the item's category is \"fake job posting\"\n",
    "    if item.get(\"category\") == \"fake job posting\":\n",
    "        # Update the \"data type\" key to \"job post\"\n",
    "        item[\"data_type\"] = \"job posting\"\n",
    "    return item\n",
    "\n",
    "# Update each item in the data list\n",
    "for item in data:\n",
    "    update_item(item)\n",
    "\n",
    "# Save the updated data back to the JSON file\n",
    "with open('FP-base/FP-base-Chinese.json', 'w', encoding='utf-8') as f:\n",
    "    json.dump(data, f, ensure_ascii=False, indent=4)\n",
    "\n",
    "print(\"Items with category 'fake job posting' have been updated to have data type 'job post'.\")\n"
   ]
  },
  {
   "cell_type": "code",
   "execution_count": 24,
   "metadata": {},
   "outputs": [
    {
     "name": "stdout",
     "output_type": "stream",
     "text": [
      "Files combined successfully!\n"
     ]
    }
   ],
   "source": [
    "import json\n",
    "\n",
    "# Load the three JSON files with explicit UTF-8 encoding\n",
    "def load_json(file_path):\n",
    "    with open(file_path, 'r', encoding='utf-8') as file:\n",
    "        return json.load(file)\n",
    "\n",
    "# Combine the JSON data\n",
    "def combine_json(files):\n",
    "    combined_data = []\n",
    "    for file in files:\n",
    "        data = load_json(file)\n",
    "        combined_data.extend(data)  # Combine the data (assuming list format in JSON)\n",
    "    return combined_data\n",
    "\n",
    "# Save the combined JSON data into a new file with UTF-8 encoding\n",
    "def save_combined_json(data, output_file):\n",
    "    with open(output_file, 'w', encoding='utf-8') as file:\n",
    "        json.dump(data, file, indent=4, ensure_ascii=False)\n",
    "\n",
    "# File paths for the three JSON files\n",
    "json_files = [\n",
    "    './FP-base/FP-base-English-noFriendship.json',\n",
    "    './FP-base/Network-friendship-English.json'\n",
    "]\n",
    "\n",
    "combined_data = combine_json(json_files)\n",
    "\n",
    "# Reset the 'id' field for each item if it exists\n",
    "for index, item in enumerate(combined_data):\n",
    "    if 'id' in item:\n",
    "        item['id'] = index + 1\n",
    "\n",
    "# Save the combined data into a new file\n",
    "save_combined_json(combined_data, 'FP-base-English.json')\n",
    "\n",
    "print(\"Files combined successfully!\")\n",
    "\n",
    "\n"
   ]
  },
  {
   "cell_type": "code",
   "execution_count": 1,
   "metadata": {},
   "outputs": [
    {
     "name": "stdout",
     "output_type": "stream",
     "text": [
      "Filtered JSON saved to: ./FP-base/FP-base-Chinese.json\n"
     ]
    }
   ],
   "source": [
    "import json\n",
    "\n",
    "def remove_network_relationships(input_file, output_file=None):\n",
    "    # 读取 JSON 文件\n",
    "    with open(input_file, 'r', encoding='utf-8') as f:\n",
    "        data = json.load(f)\n",
    "    \n",
    "    # 过滤掉 category 为 'network relationship' 的项\n",
    "    if isinstance(data, list):\n",
    "        filtered_data = [item for item in data if item.get(\"category\") != \"network friendship\"]\n",
    "    elif isinstance(data, dict):\n",
    "        filtered_data = {k: v for k, v in data.items() if not (isinstance(v, dict) and v.get(\"category\") == \"network friendship\")}\n",
    "    else:\n",
    "        print(\"Unsupported JSON structure.\")\n",
    "        return\n",
    "    \n",
    "    # 如果没有提供 output_file，则覆盖原文件\n",
    "    if output_file is None:\n",
    "        output_file = input_file\n",
    "    \n",
    "    # 写入过滤后的数据\n",
    "    with open(output_file, 'w', encoding='utf-8') as f:\n",
    "        json.dump(filtered_data, f, indent=4, ensure_ascii=False)\n",
    "    \n",
    "    print(f\"Filtered JSON saved to: {output_file}\")\n",
    "\n",
    "# 示例使用\n",
    "input_json_file = \"./FP-base/FP-base-Chinese.json\"  # 你的 JSON 文件名\n",
    "remove_network_relationships(input_json_file)\n"
   ]
  },
  {
   "cell_type": "code",
   "execution_count": 25,
   "metadata": {},
   "outputs": [
    {
     "name": "stdout",
     "output_type": "stream",
     "text": [
      "Saved: ./FP-base/FP-base-English-noFriendship_part1.json\n",
      "Saved: ./FP-base/FP-base-English-noFriendship_part2.json\n",
      "Saved: ./FP-base/FP-base-English-noFriendship_part3.json\n",
      "Saved: ./FP-base/FP-base-English-noFriendship_part4.json\n",
      "Saved: ./FP-base/FP-base-English-noFriendship_part5.json\n",
      "Saved: ./FP-base/FP-base-English-noFriendship_part6.json\n",
      "Saved: ./FP-base/FP-base-English-noFriendship_part7.json\n",
      "Saved: ./FP-base/FP-base-English-noFriendship_part8.json\n",
      "Saved: ./FP-base/FP-base-English-noFriendship_part9.json\n",
      "Saved: ./FP-base/FP-base-English-noFriendship_part10.json\n"
     ]
    }
   ],
   "source": [
    "import json\n",
    "def split_file(input_file, num_parts=10):\n",
    "    with open(input_file, 'r', encoding='utf-8') as f:\n",
    "        data = json.load(f)\n",
    "    \n",
    "    if not isinstance(data, list):\n",
    "        print(\"Only list-based JSON structures are supported for splitting.\")\n",
    "        return\n",
    "    \n",
    "    chunk_size = max(1, len(data) // num_parts)\n",
    "    \n",
    "    for i in range(num_parts):\n",
    "        part_data = data[i * chunk_size:(i + 1) * chunk_size]\n",
    "        part_filename = f\"{input_file.rsplit('.', 1)[0]}_part{i + 1}.json\"\n",
    "        with open(part_filename, 'w', encoding='utf-8') as f:\n",
    "            json.dump(part_data, f, indent=4, ensure_ascii=False)\n",
    "        print(f\"Saved: {part_filename}\")\n",
    "\n",
    "# 示例使用\n",
    "input_json_file = \"./FP-base/FP-base-English-noFriendship.json\" # 你的 JSON 文件名\n",
    "split_file(input_json_file)\n"
   ]
  },
  {
   "cell_type": "code",
   "execution_count": 3,
   "metadata": {},
   "outputs": [
    {
     "name": "stdout",
     "output_type": "stream",
     "text": [
      "Keys added successfully!\n"
     ]
    }
   ],
   "source": [
    "import json\n",
    "\n",
    "# Load the JSON file\n",
    "with open(\"./FP-base/Network-friendship-English.json\", \"r\") as file:\n",
    "    data = json.load(file)\n",
    "\n",
    "# Define the two fixed keys and values\n",
    "new_keys = {\"subcategory\": \"network friendship\"}\n",
    "\n",
    "# Add the new keys to each item\n",
    "for item in data:\n",
    "    item.update(new_keys)\n",
    "\n",
    "# Save the modified JSON file\n",
    "with open(\"./FP-base/Network-friendship-English.json\", \"w\") as file:\n",
    "    json.dump(data, file, indent=4)\n",
    "\n",
    "print(\"Keys added successfully!\")\n"
   ]
  },
  {
   "cell_type": "code",
   "execution_count": 26,
   "metadata": {},
   "outputs": [
    {
     "name": "stdout",
     "output_type": "stream",
     "text": [
      "All JSON files combined successfully into combined_data.json!\n"
     ]
    }
   ],
   "source": [
    "import json\n",
    "import glob\n",
    "\n",
    "# Specify the file pattern for your JSON files\n",
    "file_pattern = \"./FP-base/FP-base-Chinese_part*.json\"\n",
    "\n",
    "# List to store combined data\n",
    "combined_data = []\n",
    "index = 1\n",
    "# Loop through each file matching the pattern\n",
    "for filename in glob.glob(file_pattern):\n",
    "    with open(filename, \"r\", encoding=\"utf-8\") as file:\n",
    "        data = json.load(file)\n",
    "        # Assuming each JSON file contains a list of items\n",
    "        combined_data.extend(data)  # Use .update() if it's a dictionary\n",
    "for index, item in enumerate(combined_data):\n",
    "    if 'id' in item:\n",
    "        item['id'] = index + 1\n",
    "# Save the combined data into a new JSON file\n",
    "with open(\"./FP-base/FP-base-Chinese.json\", \"w\", encoding=\"utf-8\") as output_file:\n",
    "    json.dump(combined_data, output_file, ensure_ascii=False, indent=4)\n",
    "\n",
    "print(\"All JSON files combined successfully into combined_data.json!\")\n"
   ]
  },
  {
   "cell_type": "code",
   "execution_count": 23,
   "metadata": {},
   "outputs": [
    {
     "name": "stdout",
     "output_type": "stream",
     "text": [
      "JSON files have been processed and saved to 'combined_and_modified_data.json'!\n"
     ]
    }
   ],
   "source": [
    "import json\n",
    "import glob\n",
    "import uuid\n",
    "\n",
    "# File pattern to match JSON files\n",
    "file_pattern = \"./FP-base/Network-friendship-English.json\"\n",
    "\n",
    "# Keys to add with their default values\n",
    "fixed_keys = {\n",
    "    \"subcategory\": \"network friendship\",\n",
    "    \"data_type\": \"message\",\n",
    "    \"language\": \"English\"\n",
    "}\n",
    "\n",
    "# List to store the modified data\n",
    "combined_data = []\n",
    "id = 987\n",
    "# Process each file\n",
    "for filename in glob.glob(file_pattern):\n",
    "    with open(filename, \"r\", encoding=\"utf-8\") as file:\n",
    "        data = json.load(file)\n",
    "        for item in data:\n",
    "            # Add 'id' key if not present\n",
    "            if \"id\" not in item:\n",
    "                item[\"id\"] = id  # Generate a unique ID\n",
    "                id+=1\n",
    "            \n",
    "            # Add the fixed keys\n",
    "            for key, value in fixed_keys.items():\n",
    "                if key not in item:\n",
    "                    item[key] = value\n",
    "            \n",
    "            # Append the modified item to the combined data\n",
    "            combined_data.append(item)\n",
    "\n",
    "# Save the modified and combined data to a new file\n",
    "with open(\"./FP-base/Network-friendship-English.json\", \"w\", encoding=\"utf-8\") as output_file:\n",
    "    json.dump(combined_data, output_file, ensure_ascii=False, indent=4)\n",
    "\n",
    "print(\"JSON files have been processed and saved to 'combined_and_modified_data.json'!\")\n"
   ]
  }
 ],
 "metadata": {
  "kernelspec": {
   "display_name": "fra",
   "language": "python",
   "name": "python3"
  },
  "language_info": {
   "codemirror_mode": {
    "name": "ipython",
    "version": 3
   },
   "file_extension": ".py",
   "mimetype": "text/x-python",
   "name": "python",
   "nbconvert_exporter": "python",
   "pygments_lexer": "ipython3",
   "version": "3.10.16"
  }
 },
 "nbformat": 4,
 "nbformat_minor": 2
}
