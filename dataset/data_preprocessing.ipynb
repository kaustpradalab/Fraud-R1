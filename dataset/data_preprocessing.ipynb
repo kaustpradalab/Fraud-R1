{
 "cells": [
  {
   "cell_type": "code",
   "execution_count": 1,
   "metadata": {},
   "outputs": [
    {
     "name": "stdout",
     "output_type": "stream",
     "text": [
      "All JSON files have been combined and reindexed into Fraud24kRaw.json\n"
     ]
    }
   ],
   "source": [
    "import os\n",
    "import json\n",
    "\n",
    "# Folder containing the JSON files\n",
    "folder_path = \"./\"  # Update to your folder path\n",
    "output_file = \"Fraud24kRaw.json\"\n",
    "\n",
    "# Initialize an empty list to store data from all JSON files\n",
    "combined_data = []\n",
    "\n",
    "# Iterate through all files in the folder\n",
    "for filename in os.listdir(folder_path):\n",
    "    if filename.endswith(\".json\"):  # Process only JSON files\n",
    "        file_path = os.path.join(folder_path, filename)\n",
    "        \n",
    "        with open(file_path, \"r\", encoding=\"utf-8\") as json_file:\n",
    "            data = json.load(json_file)  # Load the content of the JSON file\n",
    "            # Check if the data is a list or a single object\n",
    "            if isinstance(data, list):\n",
    "                combined_data.extend(data)  # Append list data\n",
    "            else:\n",
    "                combined_data.append(data)  # Append single object\n",
    "\n",
    "# Reorder index (assign new unique IDs sequentially)\n",
    "for idx, item in enumerate(combined_data):\n",
    "    item['id'] = idx  # Reassign ID to be sequential starting from 0\n",
    "\n",
    "# Save the combined data to a single JSON file\n",
    "with open(output_file, \"w\", encoding=\"utf-8\") as out_file:\n",
    "    json.dump(combined_data, out_file, indent=4, ensure_ascii=False)\n",
    "\n",
    "print(f\"All JSON files have been combined and reindexed into {output_file}\")\n"
   ]
  },
  {
   "cell_type": "code",
   "execution_count": 4,
   "metadata": {},
   "outputs": [
    {
     "ename": "NameError",
     "evalue": "name 'pd' is not defined",
     "output_type": "error",
     "traceback": [
      "\u001b[0;31m---------------------------------------------------------------------------\u001b[0m",
      "\u001b[0;31mNameError\u001b[0m                                 Traceback (most recent call last)",
      "Cell \u001b[0;32mIn[4], line 9\u001b[0m\n\u001b[1;32m      7\u001b[0m     data \u001b[38;5;241m=\u001b[39m json\u001b[38;5;241m.\u001b[39mload(file)\n\u001b[1;32m      8\u001b[0m \u001b[38;5;66;03m# Create a DataFrame for statistical analysis\u001b[39;00m\n\u001b[0;32m----> 9\u001b[0m df \u001b[38;5;241m=\u001b[39m \u001b[43mpd\u001b[49m\u001b[38;5;241m.\u001b[39mDataFrame(data)\n\u001b[1;32m     11\u001b[0m total_items \u001b[38;5;241m=\u001b[39m \u001b[38;5;28mlen\u001b[39m(df)\n\u001b[1;32m     12\u001b[0m \u001b[38;5;28mprint\u001b[39m(\u001b[38;5;124m\"\u001b[39m\u001b[38;5;124m**********************************************************\u001b[39m\u001b[38;5;124m\"\u001b[39m)\n",
      "\u001b[0;31mNameError\u001b[0m: name 'pd' is not defined"
     ]
    }
   ],
   "source": [
    "from tabulate import tabulate  # Install this package: pip install tabulate\n",
    "import os\n",
    "import json\n",
    "\n",
    "\n",
    "with open(\"FP-base/FP-base-full.json\", \"r\", encoding=\"utf-8\") as file:\n",
    "    data = json.load(file)\n",
    "# Create a DataFrame for statistical analysis\n",
    "df = pd.DataFrame(data)\n",
    "\n",
    "total_items = len(df)\n",
    "print(\"**********************************************************\")\n",
    "print(f\"Total number of items in the dataset: {total_items}\")\n",
    "print(\"**********************************************************\")\n",
    "\n",
    "# Count for each 'data_type'\n",
    "data_type_counts = df['data_type'].value_counts()\n",
    "print(\"**********************************************************\")\n",
    "print(\"Counts for each 'data_type':\")\n",
    "print(tabulate(data_type_counts.reset_index(), headers=['Data Type', 'Count'], tablefmt='grid'))\n",
    "print(\"**********************************************************\")\n",
    "\n",
    "# Count for each 'subcategory' under each 'category'\n",
    "subcategory_counts = df.groupby(['category', 'subcategory']).size().reset_index(name='Count')\n",
    "print(\"Counts for each 'subcategory' under each 'category':\")\n",
    "print(tabulate(subcategory_counts, headers=['Category', 'Subcategory', 'Count'], tablefmt='grid'))\n",
    "print(\"**********************************************************\")\n",
    "\n",
    "# Count for each 'category'\n",
    "category_counts = df['category'].value_counts()\n",
    "print(\"Counts for each 'category':\")\n",
    "print(tabulate(category_counts.reset_index(), headers=['Category', 'Count'], tablefmt='grid'))\n",
    "print(\"**********************************************************\")\n",
    "\n",
    "# Count for each 'language' (if applicable)\n",
    "if 'language' in df.columns:\n",
    "    language_counts = df['language'].value_counts()\n",
    "    print(\"Counts for each 'language':\")\n",
    "    print(tabulate(language_counts.reset_index(), headers=['Language', 'Count'], tablefmt='grid'))\n",
    "    print(\"**********************************************************\")\n",
    "\n"
   ]
  },
  {
   "cell_type": "code",
   "execution_count": 1,
   "metadata": {},
   "outputs": [
    {
     "name": "stdout",
     "output_type": "stream",
     "text": [
      "Combined data saved to FP-base.json\n"
     ]
    }
   ],
   "source": [
    "import json\n",
    "\n",
    "\n",
    "# Load the data from JSON files\n",
    "def load_json(file_path):\n",
    "    with open(file_path, 'r', encoding='utf-8') as file:\n",
    "        return json.load(file)\n",
    "\n",
    "# Save the combined data to a JSON file\n",
    "def save_json(data, file_path):\n",
    "    with open(file_path, 'w', encoding='utf-8') as file:\n",
    "        json.dump(data, file, ensure_ascii=False, indent=4)\n",
    "\n",
    "# Combine two JSON files and re-order the 'id' key\n",
    "def combine_json(file1, file2, output_file):\n",
    "    data1 = load_json(file1)\n",
    "    data2 = load_json(file2)\n",
    "\n",
    "    # Combine the data\n",
    "    combined_data = data1 + data2\n",
    "\n",
    "    # Re-order the 'id' keys\n",
    "    for index, item in enumerate(combined_data):\n",
    "        if 'id' in item:\n",
    "            item['id'] = index + 1\n",
    "\n",
    "    # Save the combined data\n",
    "    save_json(combined_data, output_file)\n",
    "\n",
    "\n",
    "# File paths\n",
    "file1_path = 'unique_job_postings_more.json'\n",
    "file2_path = 'Fraud24kFiltered_more.json'\n",
    "output_file_path = 'FP-base.json'\n",
    "\n",
    "# Run the combine function\n",
    "combine_json(file1_path, file2_path, output_file_path)\n",
    "\n",
    "print(f\"Combined data saved to {output_file_path}\")\n"
   ]
  },
  {
   "cell_type": "code",
   "execution_count": 2,
   "metadata": {},
   "outputs": [
    {
     "name": "stdout",
     "output_type": "stream",
     "text": [
      "文件拆分完成！\n"
     ]
    }
   ],
   "source": [
    "import json\n",
    "\n",
    "# 读取 JSON 文件\n",
    "with open(\"FP-base.json\", \"r\", encoding=\"utf-8\") as f:\n",
    "    data = json.load(f)\n",
    "\n",
    "# 初始化两个列表\n",
    "chinese_data = []\n",
    "english_data = []\n",
    "\n",
    "# 根据 language 字段拆分数据\n",
    "for entry in data:\n",
    "    if entry.get(\"language\") == \"Chinese\":\n",
    "        chinese_data.append(entry)\n",
    "    else:\n",
    "        english_data.append(entry)\n",
    "for index, item in enumerate(chinese_data):\n",
    "        if 'id' in item:\n",
    "            item['id'] = index + 1\n",
    "for index, item in enumerate(english_data):\n",
    "        if 'id' in item:\n",
    "            item['id'] = index + 1\n",
    "# 保存拆分后的数据\n",
    "with open(\"FP-base-Chinese.json\", \"w\", encoding=\"utf-8\") as f:\n",
    "    json.dump(chinese_data, f, ensure_ascii=False, indent=4)\n",
    "\n",
    "with open(\"FP-base-English.json\", \"w\", encoding=\"utf-8\") as f:\n",
    "    json.dump(english_data, f, ensure_ascii=False, indent=4)\n",
    "\n",
    "print(\"文件拆分完成！\")\n"
   ]
  },
  {
   "cell_type": "code",
   "execution_count": 1,
   "metadata": {},
   "outputs": [
    {
     "name": "stdout",
     "output_type": "stream",
     "text": [
      "Items with 'datatype' as 'dict' have been removed.\n"
     ]
    }
   ],
   "source": [
    "import json\n",
    "\n",
    "# Load the JSON file\n",
    "with open('FP-base/FP-base-full.json', 'r') as f:\n",
    "    data = json.load(f)\n",
    "\n",
    "# Filter out items where 'datatype' is 'dict'\n",
    "filtered_data = [item for item in data if item.get('data_type') != 'dictionary']\n",
    "\n",
    "# Save the filtered data back to the JSON file\n",
    "with open('FP-base/FP-base-full.json', 'w') as f:\n",
    "    json.dump(filtered_data, f, ensure_ascii=False, indent=4)\n",
    "\n",
    "print(\"Items with 'datatype' as 'dict' have been removed.\")\n"
   ]
  }
 ],
 "metadata": {
  "kernelspec": {
   "display_name": "Python 3",
   "language": "python",
   "name": "python3"
  },
  "language_info": {
   "codemirror_mode": {
    "name": "ipython",
    "version": 3
   },
   "file_extension": ".py",
   "mimetype": "text/x-python",
   "name": "python",
   "nbconvert_exporter": "python",
   "pygments_lexer": "ipython3",
   "version": "3.10.12"
  }
 },
 "nbformat": 4,
 "nbformat_minor": 2
}
