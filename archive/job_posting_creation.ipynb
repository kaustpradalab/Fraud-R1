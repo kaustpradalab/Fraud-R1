{
 "cells": [
  {
   "cell_type": "code",
   "execution_count": 1,
   "metadata": {},
   "outputs": [],
   "source": [
    "from job_post_var import *\n",
    "import random\n",
    "import json\n",
    "import hashlib\n",
    "\n",
    "def generate_job_posting(titles, locations, departments, salary, description, title_to_requirements, title_to_benefits):\n",
    "    \"\"\"Generate a unique job posting dictionary.\"\"\"\n",
    "    selected_title = random.choice(titles)\n",
    "    job_posting = {\n",
    "        \"id\": random.randint(100, 999),\n",
    "        \"category\": \"fake job posting\",\n",
    "        \"subcategory\": \"fake job posting\",\n",
    "        \"raw_data\": {\n",
    "            \"title\": selected_title,\n",
    "            \"location\": random.choice(locations),\n",
    "            \"department\": random.choice(departments[selected_title]),\n",
    "            \"salary_range\": random.choice(salary[selected_title]),\n",
    "            \"description\": random.choice(description[selected_title]),\n",
    "            \"requirements\": random.choice(title_to_requirements[selected_title]),\n",
    "            \"benefits\": random.choice(title_to_benefits[selected_title])\n",
    "        },\n",
    "        \"data_type\": \"dictionary\",\n",
    "        \"language\": \"Chinese\"\n",
    "    }\n",
    "    \n",
    "    # Create a unique hash for the job posting\n",
    "    job_hash = hashlib.md5(json.dumps(job_posting[\"raw_data\"], sort_keys=True).encode()).hexdigest()\n",
    "    return job_posting, job_hash\n",
    "\n",
    "\n",
    "def generate_unique_job_postings(n, titles, locations, departments, salary, description, title_to_requirements, title_to_benefits):\n",
    "    \"\"\"Generate n unique job postings.\"\"\"\n",
    "    job_postings = {}\n",
    "    \n",
    "    while len(job_postings) < n:\n",
    "        job_posting, job_hash = generate_job_posting(titles, locations, departments, salary, description, title_to_requirements, title_to_benefits)\n",
    "        if job_hash not in job_postings:\n",
    "            job_postings[job_hash] = job_posting\n",
    "    \n",
    "    return list(job_postings.values())\n",
    "\n",
    "def save_to_json(file_path, job_postings):\n",
    "    \"\"\"Save job postings to a JSON file.\"\"\"\n",
    "    with open(file_path, \"w\", encoding=\"utf-8\") as json_file:\n",
    "        json.dump(job_postings, json_file, ensure_ascii=False, indent=4)\n",
    "\n",
    "\n",
    "unique_job_postings = generate_unique_job_postings(100, titles, locations, departments, salary, description, title_to_requirements, title_to_benefits)\n",
    "save_to_json(\"unique_job_postings.json\", unique_job_postings)\n"
   ]
  }
 ],
 "metadata": {
  "kernelspec": {
   "display_name": "Python 3",
   "language": "python",
   "name": "python3"
  },
  "language_info": {
   "codemirror_mode": {
    "name": "ipython",
    "version": 3
   },
   "file_extension": ".py",
   "mimetype": "text/x-python",
   "name": "python",
   "nbconvert_exporter": "python",
   "pygments_lexer": "ipython3",
   "version": "3.10.11"
  }
 },
 "nbformat": 4,
 "nbformat_minor": 2
}
